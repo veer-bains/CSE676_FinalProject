{
 "cells": [
  {
   "cell_type": "markdown",
   "id": "4d3dd7f0",
   "metadata": {},
   "source": [
    "# Human Emotion Detection on FER2013 Dataset\n",
    "### By:\n",
    "#### - Veer Bains (50363319)\n",
    "#### - Kunal Beniwal (50381672)"
   ]
  },
  {
   "cell_type": "code",
   "execution_count": 1,
   "id": "b69c4343",
   "metadata": {},
   "outputs": [
    {
     "data": {
      "text/plain": [
       "device(type='cuda')"
      ]
     },
     "execution_count": 1,
     "metadata": {},
     "output_type": "execute_result"
    }
   ],
   "source": [
    "import torch\n",
    "device = torch.device('cuda' if torch.cuda.is_available() else 'cpu')\n",
    "device\n",
    "PATH = \"C:\\\\Users\\\\veerb\\\\Downloads\\\\deep_learning\\\\project\\\\fer2013\\\\fer2013.csv\""
   ]
  },
  {
   "cell_type": "code",
   "execution_count": 1,
   "id": "7de72a3c",
   "metadata": {},
   "outputs": [],
   "source": [
    "import numpy as np\n",
    "import pandas as pd\n",
    "import cv2\n",
    "import netron\n",
    "import seaborn as sns\n",
    "import matplotlib.pyplot as plt\n",
    "import torchvision"
   ]
  },
  {
   "cell_type": "markdown",
   "id": "37e0bed1",
   "metadata": {},
   "source": [
    "### Importing Data"
   ]
  },
  {
   "cell_type": "code",
   "execution_count": 3,
   "id": "b295ec91",
   "metadata": {},
   "outputs": [],
   "source": [
    "data = pd.read_csv(PATH)"
   ]
  },
  {
   "cell_type": "code",
   "execution_count": 4,
   "id": "d41078ff",
   "metadata": {},
   "outputs": [],
   "source": [
    "\n",
    "lookup = ('anger', 'disgust', 'fear', 'happiness', 'sadness', 'surprise', 'neutral')\n",
    "y = data['emotion']\n",
    "sns.countplot(x=y)\n",
    "plt.xticks(range(7), lookup);"
   ]
  },
  {
   "cell_type": "code",
   "execution_count": 5,
   "id": "6b25c059",
   "metadata": {},
   "outputs": [
    {
     "name": "stdout",
     "output_type": "stream",
     "text": [
      "(28709, 3) (3589, 3) (3589, 3)\n"
     ]
    }
   ],
   "source": [
    "train_data = data[data.Usage =='Training'].reset_index(drop=True) \n",
    "val_data = data[data.Usage =='PrivateTest'].reset_index(drop=True) \n",
    "test_data = data[data.Usage =='PublicTest'].reset_index(drop=True) \n",
    "\n",
    "print(train_data.shape,val_data.shape,test_data.shape)"
   ]
  },
  {
   "cell_type": "markdown",
   "id": "734d8d48",
   "metadata": {},
   "source": [
    "### Creating Dataset Class and Dataloaders"
   ]
  },
  {
   "cell_type": "code",
   "execution_count": 6,
   "id": "bc5e112f",
   "metadata": {},
   "outputs": [],
   "source": [
    "class FER2013(torch.utils.data.Dataset):\n",
    "    def __init__(self, data, transforms=None):\n",
    "        self.data = data\n",
    "        self.transforms = transforms\n",
    "\n",
    "    def __len__(self):\n",
    "        return len(self.data)\n",
    "\n",
    "    def __getitem__(self, index):\n",
    "        row = self.data.loc[index]\n",
    "        image, label = np.array([x.split() for x in self.data.loc[index, ['pixels']]]), row['emotion']\n",
    "        image = np.asarray(image).astype(np.uint8).reshape(48, 48, 1)\n",
    "\n",
    "        if self.transforms:\n",
    "            image = self.transforms(image)\n",
    "        return image, label"
   ]
  },
  {
   "cell_type": "code",
   "execution_count": 7,
   "id": "c1bbac5f",
   "metadata": {},
   "outputs": [
    {
     "data": {
      "text/plain": [
       "(tensor([[[-0.6784, -0.6627, -0.5922,  ..., -0.3569, -0.3725, -0.4510],\n",
       "          [-0.6549, -0.5922, -0.5608,  ..., -0.5451, -0.5216, -0.4902],\n",
       "          [-0.6314, -0.5608, -0.6157,  ..., -0.5765, -0.6627, -0.6078],\n",
       "          ...,\n",
       "          [-0.6627, -0.5608, -0.4353,  ..., -0.6706, -0.4902, -0.2863],\n",
       "          [-0.6392, -0.4510, -0.1765,  ..., -0.3804, -0.3569, -0.3961],\n",
       "          [-0.3569, -0.1451, -0.1686,  ..., -0.3412, -0.4353, -0.3961]]]),\n",
       " 0)"
      ]
     },
     "execution_count": 7,
     "metadata": {},
     "output_type": "execute_result"
    }
   ],
   "source": [
    "\n",
    "\n",
    "trfm_train = torchvision.transforms.Compose(\n",
    "    [\n",
    "        torchvision.transforms.ToPILImage(),\n",
    "        torchvision.transforms.Grayscale(num_output_channels=1),\n",
    "        torchvision.transforms.RandomHorizontalFlip(),\n",
    "        torchvision.transforms.ToTensor(),\n",
    "        torchvision.transforms.Normalize((0.5), (0.5))\n",
    "    ])\n",
    "trfm_val_test = torchvision.transforms.Compose(\n",
    "    [\n",
    "        torchvision.transforms.ToPILImage(),\n",
    "        torchvision.transforms.Grayscale(num_output_channels=1),\n",
    "        torchvision.transforms.ToTensor(),\n",
    "        torchvision.transforms.Normalize((0.5), (0.5))\n",
    "    ])\n",
    "\n",
    "train_data = FER2013(train_data, trfm_train)\n",
    "val_data = FER2013(val_data, trfm_val_test)\n",
    "test_data = FER2013(test_data, trfm_val_test)\n",
    "\n",
    "train_data[0]"
   ]
  },
  {
   "cell_type": "code",
   "execution_count": 8,
   "id": "8534ad25",
   "metadata": {},
   "outputs": [],
   "source": [
    "batch_size = 128\n",
    "\n",
    "loader_train = torch.utils.data.DataLoader(train_data, batch_size,\n",
    "shuffle=True, pin_memory=True)\n",
    "loader_val = torch.utils.data.DataLoader(val_data, batch_size, pin_memory=True)\n",
    "loader_test = torch.utils.data.DataLoader(test_data, batch_size, pin_memory=True)"
   ]
  },
  {
   "cell_type": "code",
   "execution_count": 9,
   "id": "7becad9c",
   "metadata": {},
   "outputs": [
    {
     "name": "stderr",
     "output_type": "stream",
     "text": [
      "Clipping input data to the valid range for imshow with RGB data ([0..1] for floats or [0..255] for integers).\n"
     ]
    }
   ],
   "source": [
    "def show_batch(dl):\n",
    "    for images, labels in dl:\n",
    "        fig, ax = plt.subplots(figsize=(12, 6))\n",
    "        ax.set_xticks([]); ax.set_yticks([])\n",
    "        ax.imshow(torchvision.utils.make_grid(images, nrow=8).permute(1, 2, 0))\n",
    "        break\n",
    "\n",
    "show_batch(loader_train)"
   ]
  },
  {
   "cell_type": "markdown",
   "id": "c9c143a3",
   "metadata": {},
   "source": [
    "### Defining Model"
   ]
  },
  {
   "cell_type": "code",
   "execution_count": 10,
   "id": "71901eb4",
   "metadata": {},
   "outputs": [],
   "source": [
    "class Model_base(torch.nn.Module):\n",
    "    def training_step(self, batch):\n",
    "        images, labels = batch \n",
    "        images = images.to(device)\n",
    "        labels = labels.to(device)\n",
    "        out = self(images)                 \n",
    "        loss = torch.nn.functional.cross_entropy(out, labels)\n",
    "        return loss\n",
    "    \n",
    "    def validation_step(self, batch):\n",
    "        images, labels = batch \n",
    "        images = images.to(device)\n",
    "        labels = labels.to(device)\n",
    "        out = self(images)                    \n",
    "        loss = torch.nn.functional.cross_entropy(out, labels)   \n",
    "        acc = accuracy(out, labels)         \n",
    "        return {'val_loss': loss.detach(), 'val_acc': acc}\n",
    "        \n",
    "    def validation_epoch_end(self, outputs):\n",
    "        batch_losses = [x['val_loss'] for x in outputs]\n",
    "        epoch_loss = torch.stack(batch_losses).mean()  \n",
    "        batch_accs = [x['val_acc'] for x in outputs]\n",
    "        epoch_acc = torch.stack(batch_accs).mean()     \n",
    "        return {'val_loss': epoch_loss.item(), 'val_acc': epoch_acc.item()}\n",
    "    \n",
    "    def epoch_end(self, epoch, result):\n",
    "        print(\"Epoch [{}], train_loss: {:.4f}, val_loss: {:.4f}, val_acc: {:.4f}\".format(\n",
    "            epoch, result['train_loss'], result['val_loss'], result['val_acc']))"
   ]
  },
  {
   "cell_type": "code",
   "execution_count": 11,
   "id": "c772c6bc",
   "metadata": {},
   "outputs": [],
   "source": [
    "def conv_block(in_chnl, out_chnl, padding=1):\n",
    "    layers = [\n",
    "        torch.nn.Conv2d(in_chnl, out_chnl, kernel_size=3, padding=padding, stride=1),\n",
    "        torch.nn.ReLU(),\n",
    "        torch.nn.BatchNorm2d(out_chnl),\n",
    "        torch.nn.MaxPool2d(2),\n",
    "        torch.nn.Dropout(0.4)]\n",
    "    return torch.nn.Sequential(*layers)\n",
    "\n",
    "class Model(Model_base):\n",
    "    def __init__(self, in_chnls, num_cls):\n",
    "        super().__init__()\n",
    "\n",
    "        self.conv1 = torch.nn.Conv2d(in_chnls, 256, kernel_size=3, padding=1)\n",
    "        self.block1 = conv_block(256, 512)\n",
    "        self.block2 = conv_block(512, 384)\n",
    "        self.block3 = conv_block(384, 192)\n",
    "        self.block4 = conv_block(192, 384)\n",
    "\n",
    "        self.classifier = torch.nn.Sequential(torch.nn.Flatten(),\n",
    "                                        torch.nn.Linear(3456, 256),\n",
    "                                        torch.nn.ReLU(),\n",
    "                                        torch.nn.BatchNorm1d(256),\n",
    "                                        torch.nn.Dropout(0.3),\n",
    "                                        torch.nn.Linear(256, num_cls))    \n",
    "    def forward(self, xb):\n",
    "        out = self.conv1(xb)\n",
    "        out = self.block1(out)\n",
    "        out = self.block2(out)       \n",
    "        out = self.block3(out)\n",
    "        out = self.block4(out)\n",
    "\n",
    "        return self.classifier(out)"
   ]
  },
  {
   "cell_type": "markdown",
   "id": "4afbd3f2",
   "metadata": {},
   "source": [
    "### Defining Train and Eval Loops"
   ]
  },
  {
   "cell_type": "code",
   "execution_count": 12,
   "id": "66682691",
   "metadata": {},
   "outputs": [],
   "source": [
    "def accuracy(outputs, labels):\n",
    "    _, preds = torch.max(outputs, dim=1)\n",
    "    return torch.tensor(torch.sum(preds == labels).item() / len(preds))\n",
    "    \n",
    "@torch.no_grad()\n",
    "def evaluate(model, val_loader):\n",
    "    model.eval()\n",
    "    outputs = [model.validation_step(batch) for batch in val_loader]\n",
    "    return model.validation_epoch_end(outputs)\n",
    "\n",
    "def fit(epochs, lr, model, loader_train, loader_val, opt_func):\n",
    "    history = []\n",
    "    optimizer = opt_func(model.parameters(), lr)\n",
    "    for epoch in range(epochs):\n",
    "        # Training Phase \n",
    "        model.train()\n",
    "        train_losses = []\n",
    "        for batch in loader_train:\n",
    "            loss = model.training_step(batch)\n",
    "            train_losses.append(loss)\n",
    "            loss.backward()\n",
    "            optimizer.step()\n",
    "            optimizer.zero_grad()\n",
    "        # Validation phase\n",
    "        result = evaluate(model, loader_val)\n",
    "        result['train_loss'] = torch.stack(train_losses).mean().item()\n",
    "        model.epoch_end(epoch, result)\n",
    "        history.append(result)\n",
    "    return history"
   ]
  },
  {
   "cell_type": "markdown",
   "id": "304e755e",
   "metadata": {},
   "source": [
    "### Model training"
   ]
  },
  {
   "cell_type": "code",
   "execution_count": 13,
   "id": "1d506464",
   "metadata": {},
   "outputs": [
    {
     "name": "stdout",
     "output_type": "stream",
     "text": [
      "Epoch [0], train_loss: 1.7588, val_loss: 1.5319, val_acc: 0.4157\n",
      "Epoch [1], train_loss: 1.4378, val_loss: 1.3396, val_acc: 0.5009\n",
      "Epoch [2], train_loss: 1.2998, val_loss: 1.1929, val_acc: 0.5488\n",
      "Epoch [3], train_loss: 1.2041, val_loss: 1.1315, val_acc: 0.5701\n",
      "Epoch [4], train_loss: 1.1422, val_loss: 1.1325, val_acc: 0.5627\n",
      "Epoch [5], train_loss: 1.1044, val_loss: 1.0463, val_acc: 0.5994\n",
      "Epoch [6], train_loss: 1.0913, val_loss: 1.0440, val_acc: 0.6019\n",
      "Epoch [7], train_loss: 1.0675, val_loss: 1.0524, val_acc: 0.6027\n",
      "Epoch [8], train_loss: 1.0311, val_loss: 1.0528, val_acc: 0.5941\n",
      "Epoch [9], train_loss: 1.0050, val_loss: 0.9953, val_acc: 0.6226\n",
      "Epoch [10], train_loss: 0.9745, val_loss: 1.0010, val_acc: 0.6304\n",
      "Epoch [11], train_loss: 0.9616, val_loss: 1.1209, val_acc: 0.6129\n",
      "Epoch [12], train_loss: 0.9676, val_loss: 1.0180, val_acc: 0.6294\n",
      "Epoch [13], train_loss: 0.9745, val_loss: 0.9820, val_acc: 0.6357\n",
      "Epoch [14], train_loss: 0.9375, val_loss: 0.9994, val_acc: 0.6275\n",
      "Epoch [15], train_loss: 0.9201, val_loss: 1.0536, val_acc: 0.6366\n",
      "Epoch [16], train_loss: 0.8946, val_loss: 1.0320, val_acc: 0.6502\n",
      "Epoch [17], train_loss: 0.8767, val_loss: 1.1786, val_acc: 0.6435\n",
      "Epoch [18], train_loss: 0.8801, val_loss: 1.1943, val_acc: 0.6508\n",
      "Epoch [19], train_loss: 0.8585, val_loss: 1.1025, val_acc: 0.6687\n"
     ]
    }
   ],
   "source": [
    "model = Model(1,7).to(device) \n",
    "optimizer = torch.optim.Adam\n",
    "lr=0.001\n",
    "num_epochs=20\n",
    "\n",
    "history = fit(num_epochs, lr, model, loader_train, loader_val, optimizer)"
   ]
  },
  {
   "cell_type": "markdown",
   "id": "da920505",
   "metadata": {},
   "source": [
    "### Model Evaluation"
   ]
  },
  {
   "cell_type": "code",
   "execution_count": 25,
   "id": "e4628321",
   "metadata": {},
   "outputs": [
    {
     "data": {
      "image/png": "[encoded data removed]",
      "text/plain": [
       "<Figure size 640x480 with 1 Axes>"
      ]
     },
     "metadata": {},
     "output_type": "display_data"
    }
   ],
   "source": [
    "def plot_accuracies(history):\n",
    "    accuracies = [x['val_acc'] for x in history]\n",
    "    plt.plot(accuracies, '-x')\n",
    "    plt.xlabel('epoch')\n",
    "    plt.ylabel('accuracy')\n",
    "    plt.title('Accuracy vs N. of epochs')\n",
    "    plt.show()\n",
    "\n",
    "plot_accuracies(history)"
   ]
  },
  {
   "cell_type": "code",
   "execution_count": null,
   "id": "22b1ce1f",
   "metadata": {},
   "outputs": [],
   "source": []
  },
  {
   "cell_type": "code",
   "execution_count": null,
   "id": "119817fe",
   "metadata": {},
   "outputs": [],
   "source": [
    "plt.show()"
   ]
  },
  {
   "cell_type": "code",
   "execution_count": 26,
   "id": "aecad27d",
   "metadata": {},
   "outputs": [
    {
     "data": {
      "image/png": "[encoded data removed]",
      "text/plain": [
       "<Figure size 640x480 with 1 Axes>"
      ]
     },
     "metadata": {},
     "output_type": "display_data"
    }
   ],
   "source": [
    "def plot_losses(history):\n",
    "    train_losses = [x.get('train_loss') for x in history]\n",
    "    val_losses = [x['val_loss'] for x in history]\n",
    "    plt.plot(train_losses, '-bx')\n",
    "    plt.plot(val_losses, '-rx')\n",
    "    plt.xlabel('epoch')\n",
    "    plt.ylabel('loss')\n",
    "    plt.legend(['Training', 'Validation'])\n",
    "    plt.title('Loss vs N. of epochs');\n",
    "    plt.show()\n",
    "\n",
    "plot_losses(history)"
   ]
  },
  {
   "cell_type": "code",
   "execution_count": 17,
   "id": "d4ea5b25",
   "metadata": {},
   "outputs": [
    {
     "data": {
      "text/plain": [
       "{'val_loss': 1.2660977840423584, 'val_acc': 0.637607753276825}"
      ]
     },
     "execution_count": 17,
     "metadata": {},
     "output_type": "execute_result"
    }
   ],
   "source": [
    "evaluate(model, loader_test)"
   ]
  },
  {
   "cell_type": "code",
   "execution_count": 27,
   "id": "12e51521",
   "metadata": {},
   "outputs": [
    {
     "data": {
      "text/plain": [
       "3"
      ]
     },
     "execution_count": 27,
     "metadata": {},
     "output_type": "execute_result"
    }
   ],
   "source": [
    "def predict_image(img, model):\n",
    "    xb = img.unsqueeze(0).to(device)\n",
    "    yb = model(xb)\n",
    "    _, preds  = torch.max(yb, dim=1)\n",
    "    return preds[0].item()\n",
    "\n",
    "img, label = test_data[100] \n",
    "predict_image(img,model)\n",
    "label"
   ]
  },
  {
   "cell_type": "code",
   "execution_count": null,
   "id": "69b2286c",
   "metadata": {},
   "outputs": [],
   "source": [
    "plt.imshow(img.squeeze(), cmap='gray')\n",
    "plt.show()"
   ]
  },
  {
   "cell_type": "markdown",
   "id": "43d0e280",
   "metadata": {},
   "source": [
    "### Save Trained Model State Dict/Entire Model"
   ]
  },
  {
   "cell_type": "code",
   "execution_count": 15,
   "id": "8931284b",
   "metadata": {},
   "outputs": [],
   "source": [
    "\n",
    "#torch.save(model.state_dict(), './final_model.pt')"
   ]
  },
  {
   "cell_type": "code",
   "execution_count": null,
   "id": "1bddad46",
   "metadata": {},
   "outputs": [],
   "source": [
    "#torch.save(model, './full_final_model.pt')"
   ]
  },
  {
   "cell_type": "code",
   "execution_count": 16,
   "id": "00941f3d",
   "metadata": {},
   "outputs": [],
   "source": []
  },
  {
   "cell_type": "raw",
   "id": "54f87e17",
   "metadata": {},
   "source": []
  },
  {
   "cell_type": "code",
   "execution_count": null,
   "id": "ac813bb7",
   "metadata": {
    "collapsed": true
   },
   "outputs": [],
   "source": []
  },
  {
   "cell_type": "code",
   "execution_count": null,
   "id": "5fc67bfc",
   "metadata": {},
   "outputs": [],
   "source": []
  },
  {
   "cell_type": "code",
   "execution_count": null,
   "id": "fcc87787",
   "metadata": {},
   "outputs": [],
   "source": []
  },
  {
   "cell_type": "code",
   "execution_count": null,
   "id": "e6b17691",
   "metadata": {},
   "outputs": [],
   "source": []
  }
 ],
 "metadata": {
  "kernelspec": {
   "display_name": "cuda",
   "language": "python",
   "name": "cuda"
  },
  "language_info": {
   "codemirror_mode": {
    "name": "ipython",
    "version": 3
   },
   "file_extension": ".py",
   "mimetype": "text/x-python",
   "name": "python",
   "nbconvert_exporter": "python",
   "pygments_lexer": "ipython3",
   "version": "3.8.8"
  }
 },
 "nbformat": 4,
 "nbformat_minor": 5
}
